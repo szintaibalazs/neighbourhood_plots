{
 "cells": [
  {
   "cell_type": "markdown",
   "id": "2faa4907-d541-4824-b303-a0b6534a1a45",
   "metadata": {},
   "source": [
    "# __Plot neighbourhood probabilities (precip percentiles)__"
   ]
  },
  {
   "cell_type": "code",
   "execution_count": null,
   "id": "75dd8201-b3c0-4f0f-b480-f9a6f62411fa",
   "metadata": {},
   "outputs": [],
   "source": [
    "%env MIR_GRIB_INPUT_BUFFER_SIZE=7688961960\n",
    "%env MARS_READANY_BUFFER_SIZE=7688961960\n",
    "%env MIR_CACHE_PATH=${SCRATCH}"
   ]
  },
  {
   "cell_type": "code",
   "execution_count": null,
   "id": "a4d79cf2-0c2f-446c-ba83-df615eda67a2",
   "metadata": {},
   "outputs": [],
   "source": [
    "import metview as mv\n",
    "import numpy as np\n",
    "from datetime import date, datetime, timedelta\n",
    "import pandas as pd\n",
    "import numpy as np\n",
    "import os\n",
    "import csv\n",
    "import math"
   ]
  },
  {
   "cell_type": "code",
   "execution_count": null,
   "id": "7f113016-120b-43dc-85fd-da6554bd03bc",
   "metadata": {},
   "outputs": [],
   "source": [
    "use_mars = False    # download oper ENS data from MARS?\n",
    "\n",
    "# Plot parameters\n",
    "my_area=[75, -15, 20, 60]     # North/West/South/East\n",
    "adate = datetime(2025,4,10)   # Forecast initialisation day\n",
    "my_step = 36           # forecast lead time\n",
    "prec_acc=6             # precip accumulation in hours\n",
    "my_percentile = 99      # percentile\n"
   ]
  },
  {
   "cell_type": "code",
   "execution_count": null,
   "id": "71c5a90b-89be-4dd3-b3cd-14bb0dd8a843",
   "metadata": {},
   "outputs": [],
   "source": [
    "path_in_EDT = \"/ec/vol/destine/neighbourhood/edt/\"\n",
    "path_in_ENS = \"/ec/vol/destine/neighbourhood/oper_ENS_9km/\"\n",
    "path_in_NB = \"/ec/vol/destine/neighbourhood/percentile/\""
   ]
  },
  {
   "cell_type": "code",
   "execution_count": null,
   "id": "cc5fe428-ac97-4c2e-8567-0da53f65d89c",
   "metadata": {},
   "outputs": [],
   "source": [
    "path_file_in1cf = adate.strftime(\"%Y%m%d\")  + \"_cf.grib\" \n",
    "path_file_in1pf = adate.strftime(\"%Y%m%d\")  + \"_pf.grib\" \n",
    "path_file_in1edt = adate.strftime(\"%Y%m%d\")  + \".grib\" "
   ]
  },
  {
   "cell_type": "code",
   "execution_count": null,
   "id": "edf62990-aa63-4bc8-9622-2619784e7581",
   "metadata": {},
   "outputs": [],
   "source": [
    "# download oper ENS data from MARS\n",
    "if use_mars:\n",
    "    ret_field = mv.retrieve(\n",
    "        date= adate,\n",
    "        time= 0,\n",
    "        step= [0,\"to\",120,\"by\",6],\n",
    "        type= \"pf\",\n",
    "        number=[1,\"to\",50],\n",
    "        class_= \"od\",\n",
    "        stream= \"enfo\",\n",
    "        levtype= \"sfc\",\n",
    "        expver= 1,\n",
    "        param=\"228.128\"     # total precipitation\n",
    "        \n",
    "    )\n",
    "\n",
    "    # save to file\n",
    "    print(\"writing retrieved file: \", path_in_ENS + path_file_in1pf)\n",
    "    mv.write(path_in_ENS + path_file_in1pf,ret_field)\n",
    "\n",
    "    ret_field = mv.retrieve(\n",
    "        date= adate,\n",
    "        time= 0,\n",
    "        step= [0,\"to\",120,\"by\",6],\n",
    "        type= \"cf\",\n",
    "        class_= \"od\",\n",
    "        stream= \"enfo\",\n",
    "        levtype= \"sfc\",\n",
    "        expver= 1,\n",
    "        param=\"228.128\"     # total precipitation\n",
    "        \n",
    "    )\n",
    "\n",
    "    # save to file\n",
    "    print(\"writing retrieved file: \", path_in_ENS + path_file_in1cf)\n",
    "    mv.write(path_in_ENS + path_file_in1cf,ret_field)"
   ]
  },
  {
   "cell_type": "code",
   "execution_count": null,
   "id": "92575902-91ca-48bd-8d68-e0d53d7ea77d",
   "metadata": {},
   "outputs": [],
   "source": [
    "file_grib1cf = mv.read(path_in_ENS + path_file_in1cf)\n",
    "file_grib1pf = mv.read(path_in_ENS + path_file_in1pf)\n",
    "file_grib1 = mv.merge(file_grib1cf, file_grib1pf)\n",
    "file_grib1edt = mv.read(path_in_EDT + path_file_in1edt)"
   ]
  },
  {
   "cell_type": "markdown",
   "id": "4b9cf907-229e-4fc8-a76b-973f9cb89af4",
   "metadata": {},
   "source": [
    "# Plot DestinE forecast"
   ]
  },
  {
   "cell_type": "code",
   "execution_count": null,
   "id": "42ae2f86-db36-40a9-928f-254e1712210b",
   "metadata": {},
   "outputs": [],
   "source": [
    "var_2 = file_grib1edt.select(\n",
    "    shortName=\"tp\",\n",
    "    stepRange=my_step,\n",
    "    )\n",
    "\n",
    "var_1 = file_grib1edt.select(\n",
    "    shortName=\"tp\",\n",
    "    stepRange=my_step-prec_acc,\n",
    "    )"
   ]
  },
  {
   "cell_type": "code",
   "execution_count": null,
   "id": "2412ee23-5805-4d05-806c-238ed0c55a94",
   "metadata": {},
   "outputs": [],
   "source": [
    "var=(var_2-var_1)*1000."
   ]
  },
  {
   "cell_type": "code",
   "execution_count": null,
   "id": "b272feac-3561-47f3-8800-c715ba55fd99",
   "metadata": {},
   "outputs": [],
   "source": []
  },
  {
   "cell_type": "code",
   "execution_count": null,
   "id": "89f6c9c2-a25a-46ea-adb4-c9858da85a9f",
   "metadata": {},
   "outputs": [],
   "source": [
    "max(var.values())"
   ]
  },
  {
   "cell_type": "code",
   "execution_count": null,
   "id": "f8372553-be4f-4639-9397-bda2b917d57f",
   "metadata": {},
   "outputs": [],
   "source": [
    "# set up the geographical area\n",
    "my_view = mv.geoview(\n",
    "    map_area_definition=\"CORNERS\", map_projection=\"CYLINDRICAL\", area=my_area  # North/West/South/East\n",
    ")\n",
    "\n",
    "# set up the coastlines\n",
    "my_coast = mv.mcoast(\n",
    "    map_coastline_land_shade=\"ON\", map_coastline_land_shade_colour=\"CREAM\"\n",
    ")\n",
    "\n",
    "# set up contour\n",
    "my_contour = mv.mcont(\n",
    "    legend                       = \"on\",\n",
    "    contour                      = \"off\",\n",
    "    contour_level_selection_type = \"level_list\",\n",
    "    contour_level_list           = [-10,0.5,2,5,10,20,30,40,50,60,80,100,125,150,200,300,500,10000],\n",
    "    contour_label                = \"off\",\n",
    "    contour_shade                = \"on\",\n",
    "    contour_shade_colour_method  = \"list\",\n",
    "    contour_shade_method         = \"area_fill\",\n",
    "    contour_shade_colour_list    = [\"white\",\"RGB(0.75,0.95,0.93)\",\"RGB(0.45,0.93,0.78)\",\"RGB(0.06999,0.85,0.61)\",\"RGB(0.53,0.8,0.13)\",\"RGB(0.6,0.91,0.05699)\",\"RGB(0.9,1,0.4)\",\"RGB(0.89,0.89,0.066)\",\"RGB(1,0.73,0.003906)\",\"RGB(1,0.49,0.003906)\",\"red\",\"RGB(0.85,0.003906,1)\",\"RGB(0.63,0.007294,0.92)\",\"RGB(0.37,0.29,0.91)\",\"RGB(0.03999,0.03999,0.84)\",\"RGB(0.04199,0.04199,0.43)\",\"RGB(0.45,0.45,0.45)\"]\n",
    "    )\n",
    "\n",
    "# set-up the title\n",
    "my_title = mv.mtext(\n",
    "    text_font_size=0.50,\n",
    "    text_lines=[\n",
    "        \"<font size='0.7'>DestinE 4.4 km, \"+str(prec_acc)+\"h prec. [mm] </font>\",\n",
    "        \"<magics_title/>\",\n",
    "        \"\",\n",
    "    ],\n",
    "    text_colour=\"CHARCOAL\",\n",
    ")\n",
    "\n",
    "my_legend = mv.mlegend(\n",
    "    legend_text_font_size = 0.4,\n",
    ")\n",
    "\n",
    "# define the output plot file\n",
    "# mv.setoutput(mv.pdf_output(output_name=\"contour9\"))\n",
    "\n",
    "# plot the data onto the map\n",
    "mv.plot(my_view, my_coast, var, my_contour, my_title, my_legend)\n",
    "#mv.plot( my_coast, var, my_contour, my_title)\n"
   ]
  },
  {
   "cell_type": "code",
   "execution_count": null,
   "id": "7e5fad51-7253-4f37-801d-a1071d64ba38",
   "metadata": {},
   "outputs": [],
   "source": []
  },
  {
   "cell_type": "markdown",
   "id": "a0d8bd14-7b2c-4fdd-a3b2-c5e529461794",
   "metadata": {},
   "source": [
    "# Plot NB probability field (percentile)"
   ]
  },
  {
   "cell_type": "code",
   "execution_count": null,
   "id": "aa45ab61-1cdc-4170-818b-19346fbc03b0",
   "metadata": {},
   "outputs": [],
   "source": [
    "file_in = path_in_NB + \"NB_tp6h_p\" + str(float(my_percentile)) + \"_rVR_ST0_\" + adate.strftime(\"%Y%m%d\") + \"_step_6-120.grib2\"\n",
    "file_grib_NB = mv.read(file_in)"
   ]
  },
  {
   "cell_type": "code",
   "execution_count": null,
   "id": "2b3fa33f-98aa-440b-9849-e8affb637a7a",
   "metadata": {},
   "outputs": [],
   "source": []
  },
  {
   "cell_type": "code",
   "execution_count": null,
   "id": "7d98dc1e-9c00-4867-a734-ab4d54f38ccc",
   "metadata": {},
   "outputs": [],
   "source": [
    "file_in"
   ]
  },
  {
   "cell_type": "code",
   "execution_count": null,
   "id": "94e14565-94c7-4317-a257-03e7220bd2ae",
   "metadata": {},
   "outputs": [],
   "source": [
    "var_NB = file_grib_NB.select(\n",
    "    shortName=\"tp\",\n",
    "    stepRange=str(my_step-prec_acc)+\"-\"+str(my_step),\n",
    "    )"
   ]
  },
  {
   "cell_type": "code",
   "execution_count": null,
   "id": "edef6cd5-f60a-4c28-8326-dbe9de96f19b",
   "metadata": {},
   "outputs": [],
   "source": []
  },
  {
   "cell_type": "code",
   "execution_count": null,
   "id": "2a60dd77-a50d-4759-a716-c28471848b6f",
   "metadata": {},
   "outputs": [],
   "source": [
    "max(var_NB.values())"
   ]
  },
  {
   "cell_type": "code",
   "execution_count": null,
   "id": "20c2eed0-3ec1-4b8b-bbed-2682aefdd7e2",
   "metadata": {},
   "outputs": [],
   "source": [
    "# set up the geographical area\n",
    "my_view = mv.geoview(\n",
    "    map_area_definition=\"CORNERS\", map_projection=\"CYLINDRICAL\", area=my_area  # North/West/South/East\n",
    ")\n",
    "\n",
    "# set up the coastlines\n",
    "my_coast = mv.mcoast(\n",
    "    map_coastline_land_shade=\"ON\", map_coastline_land_shade_colour=\"CREAM\"\n",
    ")\n",
    "\n",
    "# set up contour\n",
    "my_contour = mv.mcont(\n",
    "    legend                       = \"on\",\n",
    "    contour                      = \"off\",\n",
    "    contour_level_selection_type = \"level_list\",\n",
    "    contour_level_list           = [-10,0.5,2,5,10,20,30,40,50,60,80,100,125,150,200,300,500,10000],\n",
    "    contour_label                = \"off\",\n",
    "    contour_shade                = \"on\",\n",
    "    contour_shade_colour_method  = \"list\",\n",
    "    contour_shade_method         = \"area_fill\",\n",
    "    contour_shade_colour_list    = [\"white\",\"RGB(0.75,0.95,0.93)\",\"RGB(0.45,0.93,0.78)\",\"RGB(0.06999,0.85,0.61)\",\"RGB(0.53,0.8,0.13)\",\"RGB(0.6,0.91,0.05699)\",\"RGB(0.9,1,0.4)\",\"RGB(0.89,0.89,0.066)\",\"RGB(1,0.73,0.003906)\",\"RGB(1,0.49,0.003906)\",\"red\",\"RGB(0.85,0.003906,1)\",\"RGB(0.63,0.007294,0.92)\",\"RGB(0.37,0.29,0.91)\",\"RGB(0.03999,0.03999,0.84)\",\"RGB(0.04199,0.04199,0.43)\",\"RGB(0.45,0.45,0.45)\"]\n",
    "    )\n",
    "\n",
    "# set-up the title\n",
    "my_title = mv.mtext(\n",
    "    text_font_size=0.50,\n",
    "    text_lines=[\n",
    "        \"<font size='0.7'>DestinE 4.4 km, NB \"+str(my_percentile)+\" Percentile for \"+str(prec_acc)+\"h prec. [mm]  </font>\",\n",
    "        \"<magics_title/>\",\n",
    "        \"\",\n",
    "    ],\n",
    "    text_colour=\"CHARCOAL\",\n",
    ")\n",
    "\n",
    "my_legend = mv.mlegend(\n",
    "    legend_text_font_size = 0.4,\n",
    ")\n",
    "\n",
    "# define the output plot file\n",
    "# mv.setoutput(mv.pdf_output(output_name=\"contour9\"))\n",
    "\n",
    "# plot the data onto the map\n",
    "mv.plot(my_view, my_coast, var_NB/1, my_contour, my_title, my_legend)\n",
    "#mv.plot( my_coast, var_NB/1, my_contour, my_title)\n"
   ]
  },
  {
   "cell_type": "markdown",
   "id": "cbada0e9-54ea-429b-83cd-dba5206204eb",
   "metadata": {},
   "source": [
    "# __Plot ENS percentiles__"
   ]
  },
  {
   "cell_type": "code",
   "execution_count": null,
   "id": "dcb80c0f-914d-45aa-b046-343ff72d3c4d",
   "metadata": {},
   "outputs": [],
   "source": [
    "var_ENS_2 = file_grib1.select(\n",
    "    shortName=\"tp\",\n",
    "    stepRange=my_step,\n",
    "    )"
   ]
  },
  {
   "cell_type": "code",
   "execution_count": null,
   "id": "65d97c81-0b39-4626-81a9-3c943a18df2b",
   "metadata": {},
   "outputs": [],
   "source": [
    "var_ENS_1 = file_grib1.select(\n",
    "    shortName=\"tp\",\n",
    "    stepRange=my_step-prec_acc,\n",
    "    )"
   ]
  },
  {
   "cell_type": "code",
   "execution_count": null,
   "id": "867b1ddf-2c6e-483a-bca3-33a18be9d4ed",
   "metadata": {},
   "outputs": [],
   "source": [
    "var_ENS = (var_ENS_2 - var_ENS_1) * 1000"
   ]
  },
  {
   "cell_type": "code",
   "execution_count": null,
   "id": "68d679fa-7bfa-4ba1-815f-3cf004484cde",
   "metadata": {},
   "outputs": [],
   "source": [
    "ENS_percentile = mv.percentile(data=var_ENS, percentiles=my_percentile)"
   ]
  },
  {
   "cell_type": "code",
   "execution_count": null,
   "id": "d82be261-39ea-493b-bf6a-30e7d6c8f063",
   "metadata": {},
   "outputs": [],
   "source": [
    "# set up the geographical area\n",
    "my_view = mv.geoview(\n",
    "    map_area_definition=\"CORNERS\", map_projection=\"CYLINDRICAL\", area=my_area  # North/West/South/East\n",
    ")\n",
    "\n",
    "# set up the coastlines\n",
    "my_coast = mv.mcoast(\n",
    "    map_coastline_land_shade=\"ON\", map_coastline_land_shade_colour=\"CREAM\"\n",
    ")\n",
    "\n",
    "# set up contour\n",
    "my_contour = mv.mcont(\n",
    "    legend                       = \"on\",\n",
    "    contour                      = \"off\",\n",
    "    contour_level_selection_type = \"level_list\",\n",
    "    contour_level_list           = [-10,0.5,2,5,10,20,30,40,50,60,80,100,125,150,200,300,500,10000],\n",
    "    contour_label                = \"off\",\n",
    "    contour_shade                = \"on\",\n",
    "    contour_shade_colour_method  = \"list\",\n",
    "    contour_shade_method         = \"area_fill\",\n",
    "    contour_shade_colour_list    = [\"white\",\"RGB(0.75,0.95,0.93)\",\"RGB(0.45,0.93,0.78)\",\"RGB(0.06999,0.85,0.61)\",\"RGB(0.53,0.8,0.13)\",\"RGB(0.6,0.91,0.05699)\",\"RGB(0.9,1,0.4)\",\"RGB(0.89,0.89,0.066)\",\"RGB(1,0.73,0.003906)\",\"RGB(1,0.49,0.003906)\",\"red\",\"RGB(0.85,0.003906,1)\",\"RGB(0.63,0.007294,0.92)\",\"RGB(0.37,0.29,0.91)\",\"RGB(0.03999,0.03999,0.84)\",\"RGB(0.04199,0.04199,0.43)\",\"RGB(0.45,0.45,0.45)\"]\n",
    "    )\n",
    "\n",
    "# set-up the title\n",
    "my_title = mv.mtext(\n",
    "    text_font_size=0.50,\n",
    "    text_lines=[\n",
    "        \"<font size='0.7'>ENS 9 km, \"+str(my_percentile)+\" Percentile for \"+str(prec_acc)+\"h prec. [mm]   </font>\",\n",
    "        \"<magics_title/>\",\n",
    "        \"\",\n",
    "    ],\n",
    "    text_colour=\"CHARCOAL\",\n",
    ")\n",
    "\n",
    "my_legend = mv.mlegend(\n",
    "    legend_text_font_size = 0.4,\n",
    ")\n",
    "\n",
    "mv.plot(my_view, my_coast, ENS_percentile, my_contour, my_title, my_legend)\n",
    "#mv.plot( my_coast, prob*100., my_contour, my_title)\n"
   ]
  },
  {
   "cell_type": "code",
   "execution_count": null,
   "id": "918fd050-78a0-438e-a672-c643ec00932a",
   "metadata": {},
   "outputs": [],
   "source": []
  },
  {
   "cell_type": "code",
   "execution_count": null,
   "id": "81e9532c-f3bf-4c96-b42b-9eae8a133b55",
   "metadata": {},
   "outputs": [],
   "source": []
  }
 ],
 "metadata": {
  "kernelspec": {
   "display_name": "Python 3.11.10-01",
   "language": "python",
   "name": "python3"
  },
  "language_info": {
   "codemirror_mode": {
    "name": "ipython",
    "version": 3
   },
   "file_extension": ".py",
   "mimetype": "text/x-python",
   "name": "python",
   "nbconvert_exporter": "python",
   "pygments_lexer": "ipython3",
   "version": "3.11.10"
  }
 },
 "nbformat": 4,
 "nbformat_minor": 5
}
